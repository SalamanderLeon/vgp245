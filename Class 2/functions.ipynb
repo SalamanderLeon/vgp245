{
 "cells": [
  {
   "cell_type": "markdown",
   "metadata": {
    "collapsed": true
   },
   "source": [
    "# VGP 245\n",
    "## Class 2 - Functions\n",
    "\n",
    "### Introduction\n",
    "\n",
    "\n",
    "Functions are defined by using the __def__ keyword followed by the function name, parenthesis __()__ with or without parameters and a colon **:** followed by the code block.  Within the code block there is __scope__.  All functions returns an object, even if doesn't have the return keyword.  In that case, it'll return NoneType.  You can set default values, and it has to be the last argument, otherwise, it'll give you a syntax error.  You can also have an unknown number of parameters similar to how printf works in C, and for the parameter, you specify '*' for the parameter variable.  You can confirm if the variable has been changed by using the id(var_name) function, and inspect the variable to see if it's changed or not.\n",
    "\n",
    "\n",
    "| function parameters  | types                                          |\n",
    "|----------------------|------------------------------------------------|\n",
    "| call by value        | immutable types e.g. string, int, float, tuple |\n",
    "| call by reference    | mutable types e.g. list, dict, set             |\n",
    "\n"
   ]
  },
  {
   "cell_type": "code",
   "execution_count": 11,
   "metadata": {},
   "outputs": [
    {
     "name": "stdout",
     "output_type": "stream",
     "text": [
      "5\n",
      "<class 'int'>\n",
      "Random Stuff\n",
      "<class 'NoneType'>\n",
      "<class 'function'>\n",
      "78.53975\n",
      "78.5\n",
      "314.1\n",
      "175\n"
     ]
    }
   ],
   "source": [
    "#\n",
    "# Example file for working with functions\n",
    "#\n",
    "\n",
    "# define a basic function\n",
    "def area_of_circle(radius, pi = 3.14159):\n",
    "    return radius*radius*pi\n",
    "\n",
    "def sum(left, right):\n",
    "    return left + right\n",
    "\n",
    "def print_stuff():\n",
    "    print(\"Random Stuff\")\n",
    "\n",
    "total = sum(1,4)\n",
    "print(total)\n",
    "\n",
    "print(type(total))\n",
    "\n",
    "what = print_stuff()\n",
    "print(type(what))\n",
    "print(type(print_stuff))\n",
    "\n",
    "# function that takes arguments\n",
    "\n",
    "\n",
    "# function that returns a value\n",
    "\n",
    "\n",
    "# function with default value for an argument\n",
    "print(area_of_circle(5))\n",
    "print(area_of_circle(5, 3.14))\n",
    "print(area_of_circle(pi=3.141, radius=10))\n",
    "\n",
    "#function with variable number of arguments\n",
    "def multi_add(*args):\n",
    "    result = 0\n",
    "    for x in args:\n",
    "        result = result + x\n",
    "    return result\n",
    "\n",
    "print(multi_add(1,2,3,4,5,6,76,78))\n",
    "\n"
   ]
  },
  {
   "cell_type": "code",
   "execution_count": null,
   "metadata": {},
   "outputs": [],
   "source": []
  }
 ],
 "metadata": {
  "kernelspec": {
   "display_name": "Python 3",
   "language": "python",
   "name": "python3"
  },
  "language_info": {
   "codemirror_mode": {
    "name": "ipython",
    "version": 3
   },
   "file_extension": ".py",
   "mimetype": "text/x-python",
   "name": "python",
   "nbconvert_exporter": "python",
   "pygments_lexer": "ipython3",
   "version": "3.7.0"
  }
 },
 "nbformat": 4,
 "nbformat_minor": 1
}
