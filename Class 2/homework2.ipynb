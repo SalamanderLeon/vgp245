{
 "cells": [
  {
   "cell_type": "markdown",
   "metadata": {
    "collapsed": true
   },
   "source": [
    "# VGP 245 Assignment 2\n"
   ]
  },
  {
   "cell_type": "markdown",
   "metadata": {},
   "source": [
    "Question 1: Implement a function that sums a list of tuple paired numbers i.e coordinates (x,y) i.e. vector2 and sums it together into a single tuple. i.e. vector2Add([(1,1), (2,3), (3,3), (5,10)]) is (11,17)\n"
   ]
  },
  {
   "cell_type": "code",
   "execution_count": 23,
   "metadata": {},
   "outputs": [
    {
     "name": "stdout",
     "output_type": "stream",
     "text": [
      "[11, 17]\n"
     ]
    }
   ],
   "source": [
    "# a.\n",
    "list1 = [(1, 1), (2, 3), (3, 3), (5, 10)]\n",
    "\n",
    "\n",
    "def sums(l):\n",
    "    result = [0, 0]\n",
    "    for k in l:\n",
    "        \n",
    "        result[0] += k[0]\n",
    "        result[1] += k[1]\n",
    "    \n",
    "    print(result)\n",
    "    \n",
    "    \n",
    "sums(list1)"
   ]
  },
  {
   "cell_type": "code",
   "execution_count": 11,
   "metadata": {},
   "outputs": [],
   "source": [
    "#b. instead of taking an list of pairs, change the function so it takes in tuple pairs directly.\n"
   ]
  },
  {
   "cell_type": "code",
   "execution_count": null,
   "metadata": {},
   "outputs": [],
   "source": [
    "# c. What can go wrong with the function? How do you check that the value in the parameter is correct?\n"
   ]
  },
  {
   "cell_type": "markdown",
   "metadata": {},
   "source": [
    "Question 2: Implement a function that checks if the age specified is 18 or above, and print a message whether or not you can vote, and if the age is above 65, return a special friendly message."
   ]
  },
  {
   "cell_type": "code",
   "execution_count": 24,
   "metadata": {},
   "outputs": [
    {
     "name": "stdout",
     "output_type": "stream",
     "text": [
      "8 more years before you can vote.\nDon't forget to vote on Oct. 20th.\nDon't forget to vote on Oct. 20th. You're strong and awesome!\n"
     ]
    }
   ],
   "source": [
    "def can_vote(current_age: object) -> object:\n",
    "    vote_age = 18\n",
    "    \n",
    "# i. can_vote(18) prints the message \"Don't forget to vote on Oct. 20th.\"  \n",
    "    if vote_age <= current_age < 65:\n",
    "        print(\"Don't forget to vote on Oct. 20th.\")\n",
    "# ii. can_vote(10) prints you have \"8 more years before you can vote.\"\n",
    "    if current_age < vote_age:\n",
    "        print(\"{0} more years before you can vote.\".format(vote_age - current_age))\n",
    "# iii. can_vote(65) prints \"Don't forget to vote on Oct. 20th.  You're strong and awesome!\n",
    "    if current_age >= 65:\n",
    "        print(\"Don't forget to vote on Oct. 20th. You're strong and awesome!\")\n",
    "\n",
    "\n",
    "can_vote(10)\n",
    "can_vote(20)\n",
    "can_vote(70)"
   ]
  },
  {
   "cell_type": "markdown",
   "metadata": {},
   "source": [
    "Question 3. Implement a increment function that takes a number and increments it by 1 using a default argument, so that user can replace that increment unit to with a different number.  Use that increment function in a for loop to show at least 10 increments for each case."
   ]
  },
  {
   "cell_type": "code",
   "execution_count": 30,
   "metadata": {},
   "outputs": [
    {
     "name": "stdout",
     "output_type": "stream",
     "text": [
      "3\n4\n"
     ]
    }
   ],
   "source": [
    "def increment(num, times=0):\n",
    "    for k in range(0, times):\n",
    "        num += 1\n",
    "    print(num)\n",
    "\n",
    "\n",
    "# i. increment(3) returns 3\n",
    "increment(3)\n",
    "# ii. increment(2, 2) returns 4\n",
    "increment(2,2)"
   ]
  },
  {
   "cell_type": "markdown",
   "metadata": {},
   "source": [
    "Question 4: Create sets using the of the following information:\n",
    "\n",
    "SSJ: Goku, Vegeta, Gohan, Trunks, Broly\n",
    "\n",
    "Sayian: Goku, Vegeta, Pan, Nappa, Gohan, Trunks, Broly\n",
    "\n",
    "Human: Krillian, Yamcha, Tien, Chichi, Bulma, Gohan, Trunks, Pan\n",
    "\n",
    "Finding the differences and intersects between the sets using the set methods:"
   ]
  },
  {
   "cell_type": "code",
   "execution_count": 34,
   "metadata": {},
   "outputs": [
    {
     "name": "stdout",
     "output_type": "stream",
     "text": [
      "set()\n{'Trunks', 'Krillian', 'Bulma', 'Nappa', 'Chichi', 'Gohan', 'Broly', 'Vegeta', 'Tien', 'Goku', 'Yamcha', 'Pan'}\n{'Trunks', 'Krillian', 'Bulma', 'Chichi', 'Broly', 'Gohan', 'Vegeta', 'Tien', 'Goku', 'Yamcha', 'Pan'}\n{'Trunks', 'Gohan', 'Pan'}\n"
     ]
    }
   ],
   "source": [
    "SSJ = {\"Goku\", \"Vegeta\", \"Gohan\", \"Gohan\", \"Trunks\", \"Broly\"}\n",
    "Sayian = {\"Goku\", \"Vegeta\", \"Pan\", \"Nappa\", \"Gohan\", \"Trunks\", \"Broly\"}\n",
    "Human = {\"Krillian\", \"Yamcha\", \"Tien\", \"Chichi\", \"Bulma\", \"Gohan\", \"Trunks\", \"Pan\"}\n",
    "\n",
    "# a. Find the elements that are only in \"SSJ\" set and not in \"Sayian\" set\n",
    "print((SSJ - Sayian))\n",
    "# b. Find the elements that are in the \"Human\" set and \"Sayian\" set\n",
    "print((Human | Sayian))\n",
    "# c. Find the elements that are in the \"SSJ\" set and \"Human\" set\n",
    "print((SSJ | Human))\n",
    "# d. Find the elements that are in both \"Sayian\" set and the \"Human\" set.\n",
    "print((Sayian & Human))"
   ]
  },
  {
   "cell_type": "markdown",
   "metadata": {},
   "source": [
    "Question 5: What is the type return from the execution of the following functions: "
   ]
  },
  {
   "cell_type": "code",
   "execution_count": 35,
   "metadata": {},
   "outputs": [
    {
     "name": "stdout",
     "output_type": "stream",
     "text": [
      "<class 'int'>\n<class 'float'>\n<class 'str'>\nWelcome Master Roshi to Namek, have a nice day!\n<class 'NoneType'>\n<class 'str'>\n"
     ]
    }
   ],
   "source": [
    "def sum(left, right): \n",
    "    return left + right\n",
    "\n",
    "\n",
    "def print_greetings(name):\n",
    "    print(f'Welcome {name} to Namek, have a nice day!')\n",
    "\n",
    "    \n",
    "def capitalize(message):\n",
    "    return message.upper()\n",
    "\n",
    "# a. sum(3,4)\n",
    "print(type(sum(3,4)))\n",
    "# b. sum(1.1, 2.1)\n",
    "print(type(sum(1.1,2.1)))\n",
    "# c. sum('kame', 'hameha')\n",
    "print(type(sum('kame','hameha')))\n",
    "# d. print_greetings('Master Roshi')\n",
    "print(type(print_greetings('Master Roshi')))\n",
    "# e. capitalize(\"It's over 9000!\")\n",
    "print(type(capitalize(\"It's over 9000!\")))"
   ]
  },
  {
   "cell_type": "markdown",
   "metadata": {},
   "source": [
    "Question 6: What is tuple unpacking and show an example of it.\n"
   ]
  },
  {
   "cell_type": "code",
   "execution_count": 37,
   "metadata": {},
   "outputs": [
    {
     "name": "stdout",
     "output_type": "stream",
     "text": [
      "1 2\n2 1\n"
     ]
    }
   ],
   "source": [
    "# tuple unpacking is used to assign multiple values to multiple variables\n",
    "\n",
    "(thing, stuff) = (1, 2)\n",
    "print(f\"{thing} {stuff}\")\n",
    "\n",
    "# good for swapping values\n",
    "(thing, stuff) = (stuff, thing)\n",
    "print(f\"{thing} {stuff}\")"
   ]
  },
  {
   "cell_type": "markdown",
   "metadata": {},
   "source": [
    "Question 7: Make the following function throw an exception when the count is 0"
   ]
  },
  {
   "cell_type": "code",
   "execution_count": 55,
   "metadata": {},
   "outputs": [
    {
     "ename": "UnboundLocalError",
     "evalue": "local variable 'senzu_bean_count' referenced before assignment",
     "traceback": [
      "\u001b[0;31m---------------------------------------------------------------------------\u001b[0m",
      "\u001b[0;31mUnboundLocalError\u001b[0m                         Traceback (most recent call last)",
      "\u001b[0;32m<ipython-input-55-6fb6b7209275>\u001b[0m in \u001b[0;36m<module>\u001b[0;34m()\u001b[0m\n\u001b[1;32m     19\u001b[0m \u001b[0;34m\u001b[0m\u001b[0m\n\u001b[1;32m     20\u001b[0m \u001b[0;34m\u001b[0m\u001b[0m\n\u001b[0;32m---> 21\u001b[0;31m \u001b[0meat_senzu_bean\u001b[0m\u001b[0;34m(\u001b[0m\u001b[0;34m)\u001b[0m\u001b[0;34m\u001b[0m\u001b[0m\n\u001b[0m\u001b[1;32m     22\u001b[0m \u001b[0meat_senzu_bean\u001b[0m\u001b[0;34m(\u001b[0m\u001b[0;34m)\u001b[0m\u001b[0;34m\u001b[0m\u001b[0m\n\u001b[1;32m     23\u001b[0m \u001b[0meat_senzu_bean\u001b[0m\u001b[0;34m(\u001b[0m\u001b[0;34m)\u001b[0m\u001b[0;34m\u001b[0m\u001b[0m\n",
      "\u001b[0;32m<ipython-input-55-6fb6b7209275>\u001b[0m in \u001b[0;36meat_senzu_bean\u001b[0;34m()\u001b[0m\n\u001b[1;32m      4\u001b[0m \u001b[0;32mdef\u001b[0m \u001b[0meat_senzu_bean\u001b[0m\u001b[0;34m(\u001b[0m\u001b[0;34m)\u001b[0m\u001b[0;34m:\u001b[0m\u001b[0;34m\u001b[0m\u001b[0m\n\u001b[1;32m      5\u001b[0m \u001b[0;34m\u001b[0m\u001b[0m\n\u001b[0;32m----> 6\u001b[0;31m     \u001b[0msenzu_bean_count\u001b[0m \u001b[0;34m-=\u001b[0m \u001b[0;36m1\u001b[0m\u001b[0;34m\u001b[0m\u001b[0m\n\u001b[0m\u001b[1;32m      7\u001b[0m \u001b[0;34m\u001b[0m\u001b[0m\n\u001b[1;32m      8\u001b[0m \u001b[0;31m# a. implement throw / raise exception\u001b[0m\u001b[0;34m\u001b[0m\u001b[0;34m\u001b[0m\u001b[0m\n",
      "\u001b[0;31mUnboundLocalError\u001b[0m: local variable 'senzu_bean_count' referenced before assignment"
     ],
     "output_type": "error"
    }
   ],
   "source": [
    "senzu_bean_count = 2\n",
    "\n",
    "\n",
    "def eat_senzu_bean():\n",
    "    \n",
    "    senzu_bean_count -= 1\n",
    "    \n",
    "# a. implement throw / raise exception\n",
    "    try:\n",
    "        if senzu_bean_count <= 0:\n",
    "            raise ValueError\n",
    "        \n",
    "        print('consuming senzu bean...')\n",
    "# b. Handle the exception, so that it shows a useful error and continues gracefully\n",
    "    except ValueError:\n",
    "        print(\"a useful error and continues gracefully, also your out of beans to eat\")\n",
    "    return senzu_bean_count\n",
    "    \n",
    "    \n",
    "\n",
    "eat_senzu_bean()\n",
    "eat_senzu_bean()\n",
    "eat_senzu_bean()\n",
    "eat_senzu_bean()"
   ]
  },
  {
   "cell_type": "markdown",
   "metadata": {},
   "source": [
    "Question 8:  What is finally used for?\n"
   ]
  },
  {
   "cell_type": "code",
   "execution_count": null,
   "metadata": {},
   "outputs": [],
   "source": [
    "# finally is always run whether an exception was thrown or not, it is used to clean up like making sure files are closed"
   ]
  },
  {
   "cell_type": "markdown",
   "metadata": {},
   "source": [
    "Question 9: How do you create an empty set? "
   ]
  },
  {
   "cell_type": "code",
   "execution_count": 43,
   "metadata": {},
   "outputs": [
    {
     "name": "stdout",
     "output_type": "stream",
     "text": [
      "set()\n"
     ]
    }
   ],
   "source": [
    "thing = set()\n",
    "print(thing)"
   ]
  },
  {
   "cell_type": "markdown",
   "metadata": {},
   "source": [
    "Question 10: What is the difference between a set and a dictionary? and what are their similarities?"
   ]
  },
  {
   "cell_type": "code",
   "execution_count": 44,
   "metadata": {},
   "outputs": [],
   "source": [
    "# sets use a numbers index while dictionary don't\n",
    "# empty dictionary can be made by using emtpy curly brackets {} but sets must use set() without any parameters\n",
    "# both can be a list of pairs"
   ]
  },
  {
   "cell_type": "code",
   "execution_count": null,
   "metadata": {},
   "outputs": [],
   "source": []
  }
 ],
 "metadata": {
  "kernelspec": {
   "display_name": "Python 2",
   "language": "python",
   "name": "python2"
  },
  "language_info": {
   "codemirror_mode": {
    "name": "ipython",
    "version": 2
   },
   "file_extension": ".py",
   "mimetype": "text/x-python",
   "name": "python",
   "nbconvert_exporter": "python",
   "pygments_lexer": "ipython2",
   "version": "2.7.6"
  }
 },
 "nbformat": 4,
 "nbformat_minor": 0
}
