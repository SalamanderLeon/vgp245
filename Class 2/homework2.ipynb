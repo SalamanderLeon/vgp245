{
 "cells": [
  {
   "cell_type": "markdown",
   "metadata": {
    "collapsed": true
   },
   "source": [
    "# VGP 245 Assignment 2\n"
   ]
  },
  {
   "cell_type": "markdown",
   "metadata": {},
   "source": [
    "Question 1: Implement a function that sums a list of tuple paired numbers i.e coordinates (x,y) i.e. vector2 and sums it together into a single tuple. i.e. vector2Add([(1,1), (2,3), (3,3), (5,10)]) is (11,17)\n"
   ]
  },
  {
   "cell_type": "code",
   "execution_count": null,
   "metadata": {},
   "outputs": [],
   "source": [
    "# a."
   ]
  },
  {
   "cell_type": "code",
   "execution_count": null,
   "metadata": {},
   "outputs": [],
   "source": [
    "# c. What can go wrong with the function? How do you check that the value in the parameter is correct?\n"
   ]
  },
  {
   "cell_type": "code",
   "execution_count": null,
   "metadata": {},
   "outputs": [],
   "source": [
    "# c. What can go wrong with the function? How do you check that the value in the parameter is correct?\n"
   ]
  },
  {
   "cell_type": "markdown",
   "metadata": {},
   "source": [
    "Question 2: Implement a function that checks if the age specified is 18 or above, and print a message whether or not you can vote, and if the age is above 65, return a special friendly message."
   ]
  },
  {
   "cell_type": "code",
   "execution_count": null,
   "metadata": {},
   "outputs": [],
   "source": [
    "# i. can_vote(18) prints the message \"Don't forget to vote on Oct. 20th.\"  \n",
    "# ii. can_vote(10) prints you have \"8 more years before you can vote.\"\n",
    "# iii. can_vote(65) prints \"Don't forget to vote on Oct. 20th.  You're strong and awesome!"
   ]
  },
  {
   "cell_type": "markdown",
   "metadata": {},
   "source": [
    "Question 3. Implement a increment function that takes a number and increments it by 1 using a default argument, so that user can replace that increment unit to with a different number.  Use that increment function in a for loop to show at least 10 increments for each case."
   ]
  },
  {
   "cell_type": "code",
   "execution_count": null,
   "metadata": {},
   "outputs": [],
   "source": [
    "# i. increment(3) returns 3\n",
    "# ii. increment(2, 2) returns 4"
   ]
  },
  {
   "cell_type": "markdown",
   "metadata": {},
   "source": [
    "Question 4: Create sets using the of the following information:\n",
    "\n",
    "SSJ: Goku, Vegeta, Gohan, Gohan, Trunks, Broly\n",
    "\n",
    "Sayian: Goku, Vegeta, Pan, Nappa, Gohan, Trunks, Broly\n",
    "\n",
    "Human: Krillian, Yamcha, Tien, Chichi, Bulma, Gohan, Trunks, Pan\n",
    "\n",
    "Finding the differences and intersects between the sets using the set methods:"
   ]
  },
  {
   "cell_type": "code",
   "execution_count": null,
   "metadata": {},
   "outputs": [],
   "source": [
    "# a. Find the elements that are only in \"SSJ\" set and not in \"Sayian\" set\n",
    "\n",
    "# b. Find the elements that are in the \"Human\" set and \"Sayian\" set\n",
    "\n",
    "# c. Find the elements that are in the \"SSJ\" set and \"Human\" set\n",
    "\n",
    "# d. Find the elements that are in both \"Sayian\" set and the \"Human\" set."
   ]
  },
  {
   "cell_type": "markdown",
   "metadata": {},
   "source": [
    "Question 5: What is the type return from the execution of the following functions: "
   ]
  },
  {
   "cell_type": "code",
   "execution_count": null,
   "metadata": {},
   "outputs": [],
   "source": [
    "def sum(left, right): \n",
    "    return left + right\n",
    "\n",
    "\n",
    "def print_greetings(name):\n",
    "    print(f'Welcome {name} to Namek, have a nice day!')\n",
    "\n",
    "    \n",
    "def capitalize(message):\n",
    "    return message.upper()\n",
    "\n",
    "# a. sum(3,4)\n",
    "# b. sum(1.1, 2.1)\n",
    "# c. sum('kame', 'hameha')\n",
    "# d. print_greetings('Master Roshi')\n",
    "# e. capitalize(\"It's over 9000!\")"
   ]
  },
  {
   "cell_type": "markdown",
   "metadata": {},
   "source": [
    "Question 6: What is tuple unpacking and show an example of it.\n"
   ]
  },
  {
   "cell_type": "code",
   "execution_count": null,
   "metadata": {},
   "outputs": [],
   "source": [
    ""
   ]
  },
  {
   "cell_type": "markdown",
   "metadata": {},
   "source": [
    "Question 7: Make the following function throw an exception when the count is 0"
   ]
  },
  {
   "cell_type": "code",
   "execution_count": null,
   "metadata": {},
   "outputs": [],
   "source": [
    "senzu_bean_count = 2\n",
    "\n",
    "\n",
    "def eat_senzu_bean():\n",
    "    senzu_bean_count -= 1\n",
    "    print('consuming senzu bean...')\n",
    "\n",
    "# a. implement throw / raise exception\n",
    "\n",
    "# b. Handle the exception, so that it shows a useful error and continues gracefully\n"
   ]
  },
  {
   "cell_type": "markdown",
   "metadata": {},
   "source": [
    "Question 8:  What is finally used for?\n"
   ]
  },
  {
   "cell_type": "code",
   "execution_count": null,
   "metadata": {},
   "outputs": [],
   "source": [
    ""
   ]
  },
  {
   "cell_type": "markdown",
   "metadata": {},
   "source": [
    "Question 9: How do you create an empty set? "
   ]
  },
  {
   "cell_type": "code",
   "execution_count": null,
   "metadata": {},
   "outputs": [],
   "source": []
  },
  {
   "cell_type": "markdown",
   "metadata": {},
   "source": [
    "Question 10: What is the difference between a set and a dictionary? and what are their similarities?"
   ]
  },
  {
   "cell_type": "code",
   "execution_count": null,
   "metadata": {},
   "outputs": [],
   "source": []
  }
 ],
 "metadata": {
  "kernelspec": {
   "display_name": "Python 2",
   "language": "python",
   "name": "python2"
  },
  "language_info": {
   "codemirror_mode": {
    "name": "ipython",
    "version": 2
   },
   "file_extension": ".py",
   "mimetype": "text/x-python",
   "name": "python",
   "nbconvert_exporter": "python",
   "pygments_lexer": "ipython2",
   "version": "2.7.6"
  }
 },
 "nbformat": 4,
 "nbformat_minor": 0
}
