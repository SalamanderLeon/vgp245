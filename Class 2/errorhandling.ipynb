{
 "cells": [
  {
   "cell_type": "markdown",
   "metadata": {
    "collapsed": true
   },
   "source": [
    "# VGP 245\n",
    "## Errors\n",
    "\n",
    "In python programming there are three types of error that can occur.  It’s useful to recognize the different error types so they can be corrected more easily:\n",
    "\n",
    "+ Syntax Error – occurs when the interpreter encounters code that does not conform to the Python language rules.  For examples, a missing quote mark around a string.  The interpreter halts and reports the error without executing the program.\n",
    "+ Runtime Error – occurs during execution of the program, at the time when the program runs.  For example. When a variable name is later mis-typed so that variable cannot be recognized.  The interpreter runs the program but halts at the error and reports the nature of the error as an “Exception”.\n",
    "+ Semantic Error – occurs when the program performs unexpectedly. For example, when order precedence has not been specified in an expression.  The interpreter runs the program and does not report an error.\n",
    "\n",
    "Correcting syntax and runtime errors is straightforward, as the interpreter reports where the error occurred or the nature of the error type, but semantic errors require code examination\n"
   ]
  },
  {
   "cell_type": "code",
   "execution_count": 10,
   "metadata": {},
   "outputs": [
    {
     "name": "stdout",
     "output_type": "stream",
     "text": [
      "an error occurred, please deal with it\n",
      "something went wrong, but I'm just continue\n",
      "finally!!\n",
      "some other step to run\n"
     ]
    }
   ],
   "source": [
    "def this_is_broken():\n",
    "    raise ValueError(\"This is a bad number that you shouldn't use it\")\n",
    "    #raise Exception(\"you should not get into this code\")\n",
    "    \n",
    "    \n",
    "try:\n",
    "    this_is_broken()\n",
    "except ValueError :\n",
    "    print(\"an error occurred, please deal with it\")\n",
    "    \n",
    "    \n",
    "x = 0\n",
    "y = 1\n",
    "\n",
    "try:\n",
    "    y/x\n",
    "except Exception : \n",
    "    print(\"something went wrong, but I'm just continue\")\n",
    "finally:\n",
    "    print(\"finally!!\")\n",
    "    \n",
    "    \n",
    "print(\"some other step to run\")"
   ]
  },
  {
   "cell_type": "code",
   "execution_count": null,
   "metadata": {},
   "outputs": [],
   "source": []
  }
 ],
 "metadata": {
  "kernelspec": {
   "display_name": "Python 3",
   "language": "python",
   "name": "python3"
  },
  "language_info": {
   "codemirror_mode": {
    "name": "ipython",
    "version": 3
   },
   "file_extension": ".py",
   "mimetype": "text/x-python",
   "name": "python",
   "nbconvert_exporter": "python",
   "pygments_lexer": "ipython3",
   "version": "3.7.0"
  }
 },
 "nbformat": 4,
 "nbformat_minor": 1
}
