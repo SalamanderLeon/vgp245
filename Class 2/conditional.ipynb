{
 "cells": [
  {
   "cell_type": "markdown",
   "metadata": {
    "collapsed": true
   },
   "source": [
    "# VGP 245\n",
    "# Conditionals\n",
    "\n",
    "You can check for different conditions and the conditions must return True or False.  Note: 0 and NoneType always return False.\n",
    "\n",
    "*  '>' : greater than\n",
    "*  '<' : less than\n",
    "*  '>=' : greater than or equal\n",
    "*  '<=' : less than or equal\n",
    "*  '==' : equals to\n",
    "*  '!=' : not equals to\n",
    "\n",
    "You can also check if an element is contained within a collection:\n",
    "\n",
    "* in : checks if the element is in the collection \n",
    "* not in : checks if the element is not in the collection\n",
    "\n",
    "You can also combine the checks\n",
    "\n",
    "* or : checks that one or the other condition is satisfied to be true. Same as || in C.\n",
    "* and : checks that both conditions are met same as  Same as && in C.\n",
    "\n",
    "\n",
    "To use check for the condition the statement is as follows:\n",
    "\n",
    "<pre>\n",
    "if condition:\n",
    "   codeblock\n",
    "</pre>\n",
    "\n",
    "If you want to use and else if and else:\n",
    "\n",
    "<pre>\n",
    "if condition:\n",
    "   codeblock\n",
    "elif condition:\n",
    "   codeblock\n",
    "else:\n",
    "   codeblock\n",
    "</pre>\n",
    "\n",
    "Note: the codeblock does not indicate scope i.e. when a local variable is used inside the codeblock, it's still accessible outside the codeblock.  Only functions, classes, and modules have scope in their codeblocks.\n"
   ]
  },
  {
   "cell_type": "code",
   "execution_count": 2,
   "metadata": {},
   "outputs": [
    {
     "name": "stdout",
     "output_type": "stream",
     "text": [
      "x < y: x is 12 and y is 42\n"
     ]
    }
   ],
   "source": [
    "x = 12\n",
    "y = 42\n",
    "\n",
    "if x < y:\n",
    "    print('x < y: x is {} and y is {}'.format(x, y))\n"
   ]
  },
  {
   "cell_type": "code",
   "execution_count": null,
   "metadata": {},
   "outputs": [],
   "source": [
    "def isprime(n):\n",
    "    if n <= 1:\n",
    "        return False\n",
    "    for x in range(2, n):\n",
    "        if n % x == 0:\n",
    "            return False\n",
    "    else:\n",
    "        return True\n",
    "\n",
    "n = 5\n",
    "if isprime(n):\n",
    "    print(f'{n} is prime')\n",
    "else:\n",
    "    print(f'{n} not prime')\n",
    "\n"
   ]
  },
  {
   "cell_type": "markdown",
   "metadata": {},
   "source": [
    "# Ternary operator\n",
    "\n",
    "In some languages, you can write something like this <pre>var1 = condition ? trueValue : falseValue</pre>\n",
    "In Python, you can do the same thing, but the syntax is different.\n",
    "\n",
    "<pre>\n",
    "var1 = trueVlaue if condition else falseValue \n",
    "</pre>\n",
    "\n"
   ]
  },
  {
   "cell_type": "code",
   "execution_count": 1,
   "metadata": {},
   "outputs": [
    {
     "name": "stdout",
     "output_type": "stream",
     "text": [
      "happy\n"
     ]
    }
   ],
   "source": [
    "choice = True\n",
    "\n",
    "print('happy' if choice else 'unhappy')"
   ]
  },
  {
   "cell_type": "code",
   "execution_count": null,
   "metadata": {},
   "outputs": [],
   "source": []
  }
 ],
 "metadata": {
  "kernelspec": {
   "display_name": "Python 3",
   "language": "python",
   "name": "python3"
  },
  "language_info": {
   "codemirror_mode": {
    "name": "ipython",
    "version": 3
   },
   "file_extension": ".py",
   "mimetype": "text/x-python",
   "name": "python",
   "nbconvert_exporter": "python",
   "pygments_lexer": "ipython3",
   "version": "3.7.0"
  }
 },
 "nbformat": 4,
 "nbformat_minor": 1
}
