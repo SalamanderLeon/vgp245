{
 "cells": [
  {
   "cell_type": "markdown",
   "metadata": {},
   "source": [
    "# VGP245 Class 6 TkInter"
   ]
  },
  {
   "cell_type": "markdown",
   "metadata": {},
   "source": [
    "It's used for writing GUI in python."
   ]
  },
  {
   "cell_type": "code",
   "execution_count": 3,
   "metadata": {},
   "outputs": [],
   "source": [
    "import tkinter as tk\n",
    "\n",
    "# initializatoin\n",
    "root = tk.Tk()\n",
    "\n",
    "# sets the title\n",
    "root.title(\"VGP 245\")\n",
    "\n",
    "# creates the label widget and assign it the tkinter instance\n",
    "w = tk.Label(root, text=\"Hello Class\")\n",
    "\n",
    "# fit contents to the window\n",
    "w.pack()\n",
    "\n",
    "root.mainloop()\n",
    "\n"
   ]
  },
  {
   "cell_type": "markdown",
   "metadata": {},
   "source": [
    "## For buttons"
   ]
  },
  {
   "cell_type": "code",
   "execution_count": 5,
   "metadata": {},
   "outputs": [],
   "source": [
    "import tkinter as tk\n",
    "\n",
    "def write_something():\n",
    "    print(\"You pressed me...\")\n",
    "\n",
    "root = tk.Tk()\n",
    "frame = tk.Frame(root)\n",
    "frame.pack()\n",
    "\n",
    "button = tk.Button(frame,\n",
    "                    text=\"Quit\",\n",
    "                    fg=\"red\",\n",
    "                    command=quit)\n",
    "button.pack(side=tk.LEFT)\n",
    "\n",
    "button2 = tk.Button(frame,\n",
    "text=\"Press me\",\n",
    "fg=\"blue\",\n",
    "command=write_something)\n",
    "button2.pack()\n",
    "\n",
    "root.mainloop()\n",
    "\n",
    "\n",
    "\n",
    "\n",
    "\n",
    "\n"
   ]
  },
  {
   "cell_type": "code",
   "execution_count": null,
   "metadata": {},
   "outputs": [],
   "source": []
  }
 ],
 "metadata": {
  "kernelspec": {
   "display_name": "Python 3",
   "language": "python",
   "name": "python3"
  },
  "language_info": {
   "codemirror_mode": {
    "name": "ipython",
    "version": 3
   },
   "file_extension": ".py",
   "mimetype": "text/x-python",
   "name": "python",
   "nbconvert_exporter": "python",
   "pygments_lexer": "ipython3",
   "version": "3.7.0"
  }
 },
 "nbformat": 4,
 "nbformat_minor": 2
}
