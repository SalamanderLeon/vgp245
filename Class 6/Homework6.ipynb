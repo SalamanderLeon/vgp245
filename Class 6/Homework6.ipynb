{
 "cells": [
  {
   "cell_type": "markdown",
   "metadata": {},
   "source": [
    "# VGP 245 Assignment 6\n",
    "## TkInter\n",
    "\n",
    " Create ONE of the following applications: \n",
    "1. Simple Calculator. \n",
    "2. Simple text editor.\n",
    "3. Login screen that validates the credentials and shows a new screen when logged in.\n",
    "4. Database Editor\n",
    "\n",
    "Using Python TkInter, create a GUI application that satisfy the following requirements:\n",
    "\n",
    "* It uses a grid view.\n",
    "* It has at least 2 entry widgets.\n",
    "* It has at least 1 button with a callback function.\n",
    "* It has a file menu:\n",
    "  * open\n",
    "  * save\n",
    "  * seperator\n",
    "  * quit\n",
    "* It has a at least 1 messagebox, and 1 confirmation messagebox. \n",
    " \n",
    "Implement this in a seperate .py file.\n"
   ]
  },
  {
   "cell_type": "code",
   "execution_count": null,
   "metadata": {},
   "outputs": [],
   "source": []
  }
 ],
 "metadata": {
  "kernelspec": {
   "display_name": "Python 3",
   "language": "python",
   "name": "python3"
  },
  "language_info": {
   "codemirror_mode": {
    "name": "ipython",
    "version": 3
   },
   "file_extension": ".py",
   "mimetype": "text/x-python",
   "name": "python",
   "nbconvert_exporter": "python",
   "pygments_lexer": "ipython3",
   "version": "3.7.0"
  }
 },
 "nbformat": 4,
 "nbformat_minor": 2
}
