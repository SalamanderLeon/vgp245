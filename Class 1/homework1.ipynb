{
 "cells": [
  {
   "cell_type": "markdown",
   "metadata": {
    "collapsed": true
   },
   "source": [
    "# VGP 245 Assignment 1\n",
    "# Python Basics"
   ]
  },
  {
   "cell_type": "markdown",
   "metadata": {},
   "source": [
    "### Question 1 - Object Types and Data Structures\n",
    "\n",
    "Give briefly describe and give an example for each of the following types\n",
    "\n",
    "Number:\n",
    "\n",
    "Strings:\n",
    "\n",
    "Lists:\n",
    "\n",
    "Dictionaries:\n",
    "\n",
    "Tuples:"
   ]
  },
  {
   "cell_type": "markdown",
   "metadata": {},
   "source": [
    ""
   ]
  },
  {
   "cell_type": "markdown",
   "metadata": {},
   "source": [
    "### Question 2 - Numbers\n",
    "\n",
    "Write an equation that can calculate the total amount earned in a week if a person worked 4 hours a day, 5 days a week, and \n",
    "$25.20 per hour. "
   ]
  },
  {
   "cell_type": "markdown",
   "metadata": {},
   "source": [
    ""
   ]
  },
  {
   "cell_type": "markdown",
   "metadata": {},
   "source": [
    "### Question 3 - Numbers\n",
    "What is the result of the following?\n",
    "\n",
    "* 4 * (6 + 5)\n",
    "* 4 * 6 + 6\n",
    "* 4 + 6 * 5"
   ]
  },
  {
   "cell_type": "markdown",
   "metadata": {},
   "source": [
    ""
   ]
  },
  {
   "cell_type": "markdown",
   "metadata": {},
   "source": [
    "### Question 4 - Numbers\n",
    "\n",
    "Write an example of getting the square of 87 and the square root of 2304"
   ]
  },
  {
   "cell_type": "code",
   "execution_count": 3,
   "metadata": {},
   "outputs": [
    {
     "name": "stdout",
     "output_type": "stream",
     "text": [
      "7569\n48.0\n"
     ]
    }
   ],
   "source": [
    "import math\n",
    "print(87**2)\n",
    "print(math.sqrt(2304))"
   ]
  },
  {
   "cell_type": "markdown",
   "metadata": {},
   "source": [
    "### Question 5 - Strings\n",
    "Given the following string 'Master Chef', output the sub string 'Chef' and then reverse it"
   ]
  },
  {
   "cell_type": "code",
   "execution_count": 9,
   "metadata": {},
   "outputs": [
    {
     "name": "stdout",
     "output_type": "stream",
     "text": [
      "a\nChef\nfehC\n"
     ]
    }
   ],
   "source": [
    "name = 'Master Chef'\n",
    "# output the second character of the string above\n",
    "print(name[1])\n",
    "# output Chef from above into a new variable and print it out\n",
    "name2 = name[7:11]\n",
    "print(name2)\n",
    "# output the reverse of the variable above and print it out\n",
    "print(name2[::-1])"
   ]
  },
  {
   "cell_type": "markdown",
   "metadata": {},
   "source": [
    "### Question 6 - List\n",
    "Build the list ['Billy', 'Jason', 'Tommy'] in 2 different ways\n"
   ]
  },
  {
   "cell_type": "code",
   "execution_count": 10,
   "metadata": {},
   "outputs": [],
   "source": [
    "# Method 1\n",
    "list1 = [\"Billy\", \"Jason\", \"Tommy\"]"
   ]
  },
  {
   "cell_type": "code",
   "execution_count": 11,
   "metadata": {},
   "outputs": [],
   "source": [
    "# Method 2\n",
    "list2 = (\"Billy\", \"Jason\", \"Tommy\")"
   ]
  },
  {
   "cell_type": "markdown",
   "metadata": {},
   "source": [
    "Add an 'Zack' and 'Kimberly' into the list above and remove 'Tommy'"
   ]
  },
  {
   "cell_type": "code",
   "execution_count": 12,
   "metadata": {},
   "outputs": [],
   "source": [
    "# Add Zack and Kimberly to the list you made in Question 6\n",
    "list1.append(\"Zack\")\n",
    "list1.append(\"Kimberly\")"
   ]
  },
  {
   "cell_type": "code",
   "execution_count": 13,
   "metadata": {},
   "outputs": [],
   "source": [
    "\n",
    "# Remove Tommy from the list\n",
    "del list1[2]"
   ]
  },
  {
   "cell_type": "markdown",
   "metadata": {},
   "source": [
    "### Question 7 - List \n",
    "Sort the list below\n"
   ]
  },
  {
   "cell_type": "code",
   "execution_count": 11,
   "metadata": {},
   "outputs": [],
   "source": [
    "my_numbers = [41, 32, 5, 37, 27, 14, 24, 13, 6]\n",
    "# hint there's a built-in function for that"
   ]
  },
  {
   "cell_type": "markdown",
   "metadata": {},
   "source": [
    "### Question 8 - Dictionaries\n",
    "\n",
    "Using the dictionary below, find the value from a given key."
   ]
  },
  {
   "cell_type": "code",
   "execution_count": 14,
   "metadata": {},
   "outputs": [
    {
     "name": "stdout",
     "output_type": "stream",
     "text": [
      "Green\nWhite\n"
     ]
    }
   ],
   "source": [
    "rangers = {'Jason': 'Red', 'Tommy': 'Green', 'Billy': 'Blue', 'Zack': 'Black'}\n",
    "# find out which color is Tommy from the dictionary above and print it out\n",
    "print(rangers['Tommy'])\n",
    "\n",
    "# Tommy became the 'White' ranger and is no longer the green ranger\n",
    "# Update the Tommy to reflect the changes and print it out\n",
    "rangers['Tommy'] = 'White'\n",
    "print(rangers['Tommy'])\n",
    "\n",
    "# It turns out there are other rangers, put them together into a list of dictionaries\n",
    "zeo_ranger = {'Tommy': 'Red', 'Adam': 'Black', 'Rocky': 'Blue', 'Kat': 'Pink', 'Jason': 'Gold'}\n",
    "turbo_ranger = {'Tommy': 'Red', 'Adam': 'Green', 'Justin': 'Blue', 'Kat': 'Pink'}\n",
    "space_ranger = {'Andros': 'Red', 'Carlos': 'Black', 'TJ': 'Blue', 'Cassie': 'Pink'}\n",
    "\n",
    "all_the_rangers = {'Tommy': 'Red', 'Adam': 'Black', 'Rocky': 'Blue', 'Kat': 'Pink', 'Jason': 'Gold',\n",
    "                   'Tommy': 'Red', 'Adam': 'Green', 'Justin': 'Blue', 'Kat': 'Pink',\n",
    "                   'Andros': 'Red', 'Carlos': 'Black', 'TJ': 'Blue', 'Cassie': 'Pink'}\n",
    "\n",
    "\n",
    "# Find out the different how many rangers are there total\n",
    "# hint you will need a nested for loop\n"
   ]
  },
  {
   "cell_type": "markdown",
   "metadata": {},
   "source": [
    "### Quesiton 9 - Tuple\n",
    "What is the difference between a Tuple and a list?"
   ]
  },
  {
   "cell_type": "code",
   "execution_count": 15,
   "metadata": {},
   "outputs": [
    {
     "ename": "TypeError",
     "evalue": "'tuple' object doesn't support item deletion",
     "traceback": [
      "\u001b[0;31m---------------------------------------------------------------------------\u001b[0m",
      "\u001b[0;31mTypeError\u001b[0m                                 Traceback (most recent call last)",
      "\u001b[0;32m<ipython-input-15-a9e4a149a52d>\u001b[0m in \u001b[0;36m<module>\u001b[0;34m()\u001b[0m\n\u001b[1;32m      7\u001b[0m \u001b[0mtuple1\u001b[0m \u001b[0;34m=\u001b[0m \u001b[0;34m(\u001b[0m\u001b[0;36m7\u001b[0m\u001b[0;34m,\u001b[0m \u001b[0;36m8\u001b[0m\u001b[0;34m,\u001b[0m \u001b[0;36m9\u001b[0m\u001b[0;34m)\u001b[0m\u001b[0;34m\u001b[0m\u001b[0m\n\u001b[1;32m      8\u001b[0m \u001b[0;31m# 2.unlike list once a tuple is made it cannot be changed\u001b[0m\u001b[0;34m\u001b[0m\u001b[0;34m\u001b[0m\u001b[0m\n\u001b[0;32m----> 9\u001b[0;31m \u001b[0;32mdel\u001b[0m \u001b[0mtuple1\u001b[0m\u001b[0;34m[\u001b[0m\u001b[0;36m1\u001b[0m\u001b[0;34m]\u001b[0m\u001b[0;34m\u001b[0m\u001b[0m\n\u001b[0m",
      "\u001b[0;31mTypeError\u001b[0m: 'tuple' object doesn't support item deletion"
     ],
     "output_type": "error"
    }
   ],
   "source": [
    "tuple_of_fruits = ('apple', 'berries', 'cherries')\n",
    "list_of_fruits = ['apple', 'berries', 'cherries']\n",
    "\n",
    "# list 2 things and show an example\n",
    "# 1.tuples and lists are enclosed differently tuples use () while lists use []\n",
    "list1 = [1, 2, 3]\n",
    "tuple1 = (7, 8, 9)\n",
    "# 2.unlike list once a tuple is made it cannot be changed\n",
    "del tuple1[1]"
   ]
  },
  {
   "cell_type": "markdown",
   "metadata": {},
   "source": [
    "### Question 10 Boolean\n",
    "Using the dictionary in question 8, do the following:\n"
   ]
  },
  {
   "cell_type": "code",
   "execution_count": 20,
   "metadata": {},
   "outputs": [
    {
     "name": "stdout",
     "output_type": "stream",
     "text": [
      "Adam is the black ranger\nfalse\ntrue\nfalse\nfalse\n"
     ]
    }
   ],
   "source": [
    "# using the dictionary `rangers` check if the black ranger is 'Adam', and print the result\n",
    "if rangers['Zack'] == 'Black':\n",
    "    print(\"Adam is the black ranger\")\n",
    "else:\n",
    "    print(\"Adam is not the black ranger\")\n",
    "# Check if the blue ranger is not Bobby\n",
    "if rangers['Billy'] == 'bobby':\n",
    "    print('true')\n",
    "else:\n",
    "    print('false')\n",
    "# What does the 2.0 == 2 return?\n",
    "if 2.0 == 2:\n",
    "    print('true')\n",
    "else:\n",
    "    print('false')\n",
    "# What does 2 > 5 return?\n",
    "if 2 > 5:\n",
    "    print('true')\n",
    "else:\n",
    "    print('false')\n",
    "# What does 2 <= 1 return?\n",
    "if 2 <= 1:\n",
    "    print('true')\n",
    "else:\n",
    "    print('false')"
   ]
  },
  {
   "cell_type": "markdown",
   "metadata": {},
   "source": [
    "That's it. You can complete this and add it into your GitHub repo, and send me a message on slack or submit it on omnivox.  See you in class."
   ]
  },
  {
   "cell_type": "code",
   "execution_count": null,
   "metadata": {},
   "outputs": [],
   "source": []
  }
 ],
 "metadata": {
  "kernelspec": {
   "display_name": "Python 2",
   "language": "python",
   "name": "python2"
  },
  "language_info": {
   "codemirror_mode": {
    "name": "ipython",
    "version": 2
   },
   "file_extension": ".py",
   "mimetype": "text/x-python",
   "name": "python",
   "nbconvert_exporter": "python",
   "pygments_lexer": "ipython2",
   "version": "2.7.6"
  }
 },
 "nbformat": 4,
 "nbformat_minor": 0
}
