{
 "cells": [
  {
   "cell_type": "markdown",
   "metadata": {},
   "source": [
    "# Assignment 4\n",
    "\n",
    "### Question 1.\n",
    "part 1. Using open, and write.  \n",
    "a. Create a dictionary with the following:  \n",
    "Sport name and the number of players save it to a file.  \n",
    "\n",
    "sports = { 'basketball': 10, ... }  \n",
    " \n",
    "Save it to a text file, and load the file and print it on the screen."
   ]
  },
  {
   "cell_type": "code",
   "execution_count": 10,
   "metadata": {},
   "outputs": [
    {
     "name": "stdout",
     "output_type": "stream",
     "text": [
      "{'basketball': 10, 'baseball': 30, 'football': 20}\n{'basketball': 10, 'baseball': 30, 'football': 20}\n{'basketball': 10, 'baseball': 30, 'football': 20}\n"
     ]
    }
   ],
   "source": [
    "# part 2. Using Pickle save the dictionary into a binary file and load and print it out\n",
    "import pickle\n",
    "\n",
    "with open('sport_list_pickle.rando', mode='wb') as f:\n",
    "    pickle.dump(sports, f)\n",
    "f.close()\n",
    "\n",
    "with open('sport_list_pickle.rando', mode='rb') as f:\n",
    "    sports2 = pickle.load(f)\n",
    "    \n",
    "for sport in sports2:\n",
    "    print(str(sports2))"
   ]
  },
  {
   "cell_type": "code",
   "execution_count": 10,
   "metadata": {},
   "outputs": [
    {
     "name": "stdout",
     "output_type": "stream",
     "text": [
      "{'basketball': 10, 'baseball': 30, 'football': 20}\n{'basketball': 10, 'baseball': 30, 'football': 20}\n{'basketball': 10, 'baseball': 30, 'football': 20}\n"
     ]
    }
   ],
   "source": [
    "# part 2. Using Pickle save the dictionary into a binary file and load and print it out\n",
    "import pickle\n",
    "\n",
    "with open('sport_list_pickle.rando', mode='wb') as f:\n",
    "    pickle.dump(sports, f)\n",
    "f.close()\n",
    "\n",
    "with open('sport_list_pickle.rando', mode='rb') as f:\n",
    "    sports2 = pickle.load(f)\n",
    "    \n",
    "for sport in sports2:\n",
    "    print(str(sports2))"
   ]
  },
  {
   "cell_type": "code",
   "execution_count": 12,
   "metadata": {},
   "outputs": [
    {
     "name": "stdout",
     "output_type": "stream",
     "text": [
      "basketball 10\nbaseball 30\nfootball 20\n"
     ]
    }
   ],
   "source": [
    "# part 3. Repeat the same steps using Shelve.\n",
    "import shelve\n",
    "\n",
    "with shelve.open('sport_list_shelve.rando') as db:\n",
    "    db['sports'] = sports\n",
    "    \n",
    "db.close()\n",
    "\n",
    "sports3 = []\n",
    "\n",
    "with shelve.open('sport_list_shelve.rando', writeback=True) as db:\n",
    "    sports3 = db['sports']\n",
    "    \n",
    "db.close()\n",
    "\n",
    "for key, value in sports3.items():\n",
    "    print(key, value)"
   ]
  },
  {
   "cell_type": "code",
   "execution_count": 16,
   "metadata": {},
   "outputs": [
    {
     "name": "stdout",
     "output_type": "stream",
     "text": [
      "{'basketball': 10, 'baseball': 30, 'football': 20}\n"
     ]
    }
   ],
   "source": [
    "# part 4. Repeat the same steps using Json.\n",
    "import json\n",
    "\n",
    "with open('sport_list.json', mode='w') as f:\n",
    "    json.dump(sports, f)\n",
    "f.close()\n",
    "\n",
    "with open('sport_list.json', mode='r') as f:\n",
    "    sports4 = json.load(f)\n",
    "    \n",
    "print(str(sports4))"
   ]
  },
  {
   "cell_type": "markdown",
   "metadata": {},
   "source": [
    "### Question 2. \n",
    "Why is shelves preferred over pickle for large data sets?"
   ]
  },
  {
   "cell_type": "code",
   "execution_count": null,
   "metadata": {},
   "outputs": [],
   "source": [
    "# shelve allows you to load content as needed while pickle imedietly loads it"
   ]
  },
  {
   "cell_type": "markdown",
   "metadata": {},
   "source": [
    "### Question 3. \n",
    "Using SQL Queries, create a database using python's sqlite3 module  \n",
    "\n",
    "We would like to have a database for an Role playing game.  In this database there are 3 tables.  \n",
    "\n",
    "Character table.  \n",
    "<pre>\n",
    "CharacterId INTEGER, Name TEXT, Race TEXT, Gender TEXT, Class TEXT, Health INTEGER, Mana INTEGER, InventoryID INTEGER\n",
    "</pre>\n",
    "Inventory table.\n",
    "<pre>\n",
    "InventoryId INTEGER, ItemId INTEGER, Quantity INTEGER\n",
    "</pre>\n",
    "\n",
    "Item table\n",
    "<pre>\n",
    "ItemId INTEGER, ItemName TEXT, ItemDescription TEXT, Consumable TINYINT \n",
    "</pre>"
   ]
  },
  {
   "cell_type": "markdown",
   "metadata": {},
   "source": [
    "Insert the following entries once the tables are created\n",
    "<pre>\n",
    "CharacterId, Race, Gender, Class, Health, Mana, InventoryId\n",
    "0, Bruce, Human, Male, Fighter, 100, 0, 0\n",
    "1, Thrall, Orc, Male, Warrior, 120, 0, 1\n",
    "2, Legolas, Elf, Male, Archer, 100, 0, 2\n",
    "3, Edwyrd, Elf, Male, Fighter, 100, 0, 3\n",
    "4, Lixiss, Elf, Female, Mage, 80, 100, 4\n",
    "5, Jasmine, Fairy, Female, Mage, 80, 120, 5\n",
    "</pre>"
   ]
  },
  {
   "cell_type": "markdown",
   "metadata": {},
   "source": [
    "Insert the following entries once the tables are created\n",
    "<pre>\n",
    "CharacterId, Race, Gender, Class, Health, Mana, InventoryId\n",
    "0, Bruce, Human, Male, Fighter, 100, 0, 0\n",
    "1, Thrall, Orc, Male, Warrior, 120, 0, 1\n",
    "2, Legolas, Elf, Male, Archer, 100, 0, 2\n",
    "3, Edwyrd, Elf, Male, Fighter, 100, 0, 3\n",
    "4, Lixiss, Elf, Female, Mage, 80, 100, 4\n",
    "5, Jasmine, Fairy, Female, Mage, 80, 120, 5\n",
    "</pre>"
   ]
  },
  {
   "cell_type": "markdown",
   "metadata": {},
   "source": [
    "Insert the following entires to the Items table\n",
    "<pre>\n",
    "ItemId, ItemName, ItemDescription, Consumable\n",
    "0, sword, a sharp blade, 0\n",
    "1, axe, good for chopping things, 0\n",
    "2, hammer, heavy but good for blacksmiths, 0\n",
    "3, staff, long reaching stick, 0\n",
    "4, bow, good for long ranged attacks, 0\n",
    "5, quiver of arrows, required by the bow, 0\n",
    "6, book, full of spells, 0\n",
    "7, light mana potion, replish mana, 1\n",
    "8, med mana potion, replish more mana, 1\n",
    "9, light health potion, cures light wounds, 1\n",
    "10, med health potion, cures medium wounds, 1\n",
    "</pre>"
   ]
  },
  {
   "cell_type": "markdown",
   "metadata": {},
   "source": [
    "Insert the following entires to the Items table\n",
    "<pre>\n",
    "ItemId, ItemName, ItemDescription, Consumable\n",
    "0, sword, a sharp blade, 0\n",
    "1, axe, good for chopping things, 0\n",
    "2, hammer, heavy but good for blacksmiths, 0\n",
    "3, staff, long reaching stick, 0\n",
    "4, bow, good for long ranged attacks, 0\n",
    "5, quiver of arrows, required by the bow, 0\n",
    "6, book, full of spells, 0\n",
    "7, light mana potion, replish mana, 1\n",
    "8, med mana potion, replish more mana, 1\n",
    "9, light health potion, cures light wounds, 1\n",
    "10, med health potion, cures medium wounds, 1\n",
    "</pre>"
   ]
  },
  {
   "cell_type": "markdown",
   "metadata": {},
   "source": [
    "Insert the following entries to the Inventory table\n",
    "<pre>\n",
    "InventoryId, ItemId, Quantity\n",
    "0, 0, 1\n",
    "0, 9, 5\n",
    "1, 1, 1\n",
    "1, 9, 2\n",
    "1, 10, 2\n",
    "2, 4, 1\n",
    "2, 5, 30\n",
    "2, 9, 4\n",
    "3, 0, 1\n",
    "3, 9, 4\n",
    "4, 3, 1\n",
    "4, 7, 5\n",
    "5, 6, 1\n",
    "5, 8, 3\n",
    "</pre>"
   ]
  },
  {
   "cell_type": "markdown",
   "metadata": {},
   "source": [
    "Insert the following entries to the Inventory table\n",
    "<pre>\n",
    "InventoryId, ItemId, Quantity\n",
    "0, 0, 1\n",
    "0, 9, 5\n",
    "1, 1, 1\n",
    "1, 9, 2\n",
    "1, 10, 2\n",
    "2, 4, 1\n",
    "2, 5, 30\n",
    "2, 9, 4\n",
    "3, 0, 1\n",
    "3, 9, 4\n",
    "4, 3, 1\n",
    "4, 7, 5\n",
    "5, 6, 1\n",
    "5, 8, 3\n",
    "</pre>"
   ]
  },
  {
   "cell_type": "code",
   "execution_count": 20,
   "metadata": {},
   "outputs": [
    {
     "data": {
      "text/plain": [
       "<sqlite3.Cursor at 0x17c29b3de30>"
      ]
     },
     "execution_count": 20,
     "metadata": {},
     "output_type": "execute_result"
    }
   ],
   "source": [
    "db.execute(\"INSERT INTO Inventory ( InventoryId, ItemId, Quantity) VALUES ( 0, 0, 1 ) \")\n",
    "db.execute(\"INSERT INTO Inventory ( InventoryId, ItemId, Quantity) VALUES ( 0, 9, 5 ) \")\n",
    "db.execute(\"INSERT INTO Inventory ( InventoryId, ItemId, Quantity) VALUES ( 1, 1, 1 ) \")\n",
    "db.execute(\"INSERT INTO Inventory ( InventoryId, ItemId, Quantity) VALUES ( 1, 9, 2 ) \")\n",
    "db.execute(\"INSERT INTO Inventory ( InventoryId, ItemId, Quantity) VALUES ( 1, 10, 2 ) \")\n",
    "db.execute(\"INSERT INTO Inventory ( InventoryId, ItemId, Quantity) VALUES ( 2, 4, 1 ) \")\n",
    "db.execute(\"INSERT INTO Inventory ( InventoryId, ItemId, Quantity) VALUES ( 2, 5, 30 ) \")\n",
    "db.execute(\"INSERT INTO Inventory ( InventoryId, ItemId, Quantity) VALUES ( 2, 9, 4 ) \")\n",
    "db.execute(\"INSERT INTO Inventory ( InventoryId, ItemId, Quantity) VALUES ( 3, 0, 1 ) \")\n",
    "db.execute(\"INSERT INTO Inventory ( InventoryId, ItemId, Quantity) VALUES ( 3, 9, 4 ) \")\n",
    "db.execute(\"INSERT INTO Inventory ( InventoryId, ItemId, Quantity) VALUES ( 4, 3, 1 ) \")\n",
    "db.execute(\"INSERT INTO Inventory ( InventoryId, ItemId, Quantity) VALUES ( 4, 7, 5 ) \")\n",
    "db.execute(\"INSERT INTO Inventory ( InventoryId, ItemId, Quantity) VALUES ( 5, 6, 1 ) \")\n",
    "db.execute(\"INSERT INTO Inventory ( InventoryId, ItemId, Quantity) VALUES ( 5, 8, 3 ) \")"
   ]
  },
  {
   "cell_type": "code",
   "execution_count": 21,
   "metadata": {},
   "outputs": [
    {
     "name": "stdout",
     "output_type": "stream",
     "text": [
      "(0, 'Bruce', 'Human', 'Male', 'Fighter', 100, 0, 0)\n(1, 'Thrall', 'Orc', 'Male', 'Warrior', 120, 0, 1)\n(2, 'Legolas', 'Elf', 'Male', 'Archer', 100, 0, 2)\n(3, 'Edwyrd', 'Elf', 'Male', 'Fighter', 100, 0, 3)\n(4, 'Lixiss', 'Elf', 'Female', 'Mage', 80, 100, 4)\n(5, 'Jasmine', 'Fairy', 'Female', 'Mage', 80, 120, 5)\n(0, 'sword', 'a sharp blade', 0)\n(1, 'axe', 'good for chopping things', 0)\n(2, 'hammer', 'heavy but good for blacksmiths', 0)\n(3, 'staff', 'long reaching stick', 0)\n(4, 'bow', 'good for long ranged attacks', 0)\n(5, 'quiver of arrows', 'required by the bow', 0)\n(6, 'book', 'full of spells', 0)\n(7, 'light mana potion', 'replish mana', 1)\n(8, 'med mana potion', 'replish more mana', 1)\n(9, 'light health potion', 'cures light wounds', 1)\n(10, 'med health potion', 'cures medium wounds', 1)\n"
     ]
    }
   ],
   "source": [
    "# Once all the data have been added, do the following:\n",
    "# a. display all the characters, display all the items ( this will require SELECT * statement)\n",
    "cursor = db.cursor()\n",
    "\n",
    "for row in cursor.execute(\"SELECT * FROM Character\"):\n",
    "    print(row)\n",
    "    \n",
    "for row in cursor.execute(\"SELECT * FROM Item\"):\n",
    "    print(row)"
   ]
  },
  {
   "cell_type": "code",
   "execution_count": 23,
   "metadata": {},
   "outputs": [
    {
     "name": "stdout",
     "output_type": "stream",
     "text": [
      "(2, 'Legolas', 'Elf', 'Male', 'Archer', 100, 0, 2)\n(3, 'Edwyrd', 'Elf', 'Male', 'Fighter', 100, 0, 3)\n(4, 'Lixiss', 'Elf', 'Female', 'Mage', 80, 100, 4)\n"
     ]
    }
   ],
   "source": [
    "# b. display only the character who are elves (this will require the WHERE clause)\n",
    "for row in cursor.execute(\"SELECT * FROM Character WHERE Race = 'Elf'\"):\n",
    "    print(row)"
   ]
  },
  {
   "cell_type": "code",
   "execution_count": null,
   "metadata": {},
   "outputs": [],
   "source": [
    "# c. display the inventory for each character (this will require a INNER JOIN with the 3 tables)\n",
    "\n",
    "\n",
    "\n",
    "cursor.close()\n",
    "db.close()"
   ]
  }
 ],
 "metadata": {
  "kernelspec": {
   "display_name": "Python 3",
   "language": "python",
   "name": "python3"
  },
  "language_info": {
   "codemirror_mode": {
    "name": "ipython",
    "version": 3
   },
   "file_extension": ".py",
   "mimetype": "text/x-python",
   "name": "python",
   "nbconvert_exporter": "python",
   "pygments_lexer": "ipython3",
   "version": "3.7.0"
  }
 },
 "nbformat": 4,
 "nbformat_minor": 2
}
