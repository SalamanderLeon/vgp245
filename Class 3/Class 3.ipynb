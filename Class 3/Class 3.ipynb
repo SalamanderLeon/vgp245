{
 "cells": [
  {
   "cell_type": "markdown",
   "metadata": {},
   "source": [
    "# VGP 245 Class 3"
   ]
  },
  {
   "cell_type": "markdown",
   "metadata": {},
   "source": [
    "## Class, Inheritance, Polymorphism, DocTest, Unittest"
   ]
  },
  {
   "cell_type": "markdown",
   "metadata": {},
   "source": [
    "A class is blueprint that defines how an instance of it can be created"
   ]
  },
  {
   "cell_type": "code",
   "execution_count": 1,
   "metadata": {},
   "outputs": [
    {
     "name": "stdout",
     "output_type": "stream",
     "text": [
      "Hadouken\n",
      "Ken did a attack!\n",
      "Haya\n"
     ]
    }
   ],
   "source": [
    "class Fighter:\n",
    "    '''This is a copyright infringment'''\n",
    "    name = 'Ken'\n",
    "    \n",
    "    def attack(self):\n",
    "        print(\"Hadouken\")\n",
    "        print(self.name + \" did a attack!\")\n",
    "\n",
    "    def punch():\n",
    "        print(\"Haya\")\n",
    "        \n",
    "challenger1 = Fighter()\n",
    "challenger1.name\n",
    "challenger1.attack()\n",
    "Fighter.punch()"
   ]
  },
  {
   "cell_type": "code",
   "execution_count": 2,
   "metadata": {},
   "outputs": [
    {
     "name": "stdout",
     "output_type": "stream",
     "text": [
      "Hello my name is Bobby\n"
     ]
    }
   ],
   "source": [
    "class Person:\n",
    "    '''This is a person'''\n",
    "    def __init__(self, name,age,gender):\n",
    "        self.name = name\n",
    "        self.age = age\n",
    "        self.gender = gender\n",
    "        \n",
    "    def greet(self):\n",
    "        print(f\"Hello my name is {self.name}\")\n",
    "              \n",
    "              \n",
    "p1 = Person('Bobby', 20, 'male')\n",
    "p1.greet()"
   ]
  },
  {
   "cell_type": "code",
   "execution_count": 3,
   "metadata": {},
   "outputs": [
    {
     "name": "stdout",
     "output_type": "stream",
     "text": [
      "Greetings, I am Lawrence and my employee number is 1\n",
      "Lawrence 1\n"
     ]
    }
   ],
   "source": [
    "class Employee(Person):\n",
    "    '''This is a person who has a job'''\n",
    "    def __init__(self, name, age, gender, employeeId):\n",
    "        super().__init__(name, age, gender)\n",
    "        self.employeeId = employeeId\n",
    "        \n",
    "    def greet(self):\n",
    "        print(f\"Greetings, I am {self.name} and my employee number is {self.employeeId}\")\n",
    "        \n",
    "    def __str__(self):\n",
    "        return self.name + \" \" + self.employeeId\n",
    "    \n",
    "    def __del__(self):\n",
    "        print(\"Ouch i got fired.\")\n",
    "        \n",
    "#    def __len__(self):\n",
    "        \n",
    "        \n",
    "emp1 = Employee('Lawrence', 60, 'male', '1')\n",
    "emp1.greet()\n",
    "print(emp1)"
   ]
  },
  {
   "cell_type": "code",
   "execution_count": null,
   "metadata": {},
   "outputs": [],
   "source": []
  }
 ],
 "metadata": {
  "kernelspec": {
   "display_name": "Python 3",
   "language": "python",
   "name": "python3"
  },
  "language_info": {
   "codemirror_mode": {
    "name": "ipython",
    "version": 3
   },
   "file_extension": ".py",
   "mimetype": "text/x-python",
   "name": "python",
   "nbconvert_exporter": "python",
   "pygments_lexer": "ipython3",
   "version": "3.7.0"
  }
 },
 "nbformat": 4,
 "nbformat_minor": 2
}
