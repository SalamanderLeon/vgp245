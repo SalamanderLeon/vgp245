{
 "cells": [
  {
   "cell_type": "markdown",
   "metadata": {},
   "source": [
    "# VGP 245 - Assignment 3\n",
    "\n",
    "## Question 1.\n",
    "Fill in the Circle and CircleColider class methods.  The center attribute in the CircleCollider is pair of tuples i.e. (x,y).  To determine if collision occured, you can use Pythagorean theorem and comparing the distance of the centers the circles with the sums of the radiuses. https://en.wikipedia.org/wiki/Pythagorean_theorem \n",
    "\n",
    "class Circle:\n",
    "    \n",
    "    def __init__(self, radius):\n",
    "        pass\n",
    "                \n",
    "    def circumference(self):\n",
    "        pass\n",
    "        \n",
    "    def area(sef):\n",
    "        pass\n",
    "        \n",
    "class CircleCollider:\n",
    "\n",
    "    def __init__(self, center, radius):\n",
    "        pass\n",
    "        \n",
    "    def collides_with_circle(self, other_circle_collider):\n",
    "        pass\n",
    "\n",
    "Add docstrings to your methods and confirm that you can run doctest\n",
    "        \n",
    "## Question 2.\n",
    "        \n",
    "Create a Character class that has the following attributes:\n",
    " - name\n",
    " - hp\n",
    " - physical_damage\n",
    " - magical_damage\n",
    " - defense\n",
    " \n",
    "and two methods:\n",
    "\n",
    " - physical_attack\n",
    " - magic_attack\n",
    " - defend\n",
    " - flee\n",
    " \n",
    "Create 2 child classes from Character:\n",
    "1. Warrior\n",
    "2. Mage \n",
    "\n",
    "Override the physical and magic attacks and confirm that it behaves as expected by designing your own unit tests using python's unittest module.  Note: you cannot run unittests using jupyter notebook, and you will need to have them in .py files.\n"
   ]
  },
  {
   "cell_type": "code",
   "execution_count": null,
   "metadata": {},
   "outputs": [],
   "source": []
  }
 ],
 "metadata": {
  "kernelspec": {
   "display_name": "Python 3",
   "language": "python",
   "name": "python3"
  },
  "language_info": {
   "codemirror_mode": {
    "name": "ipython",
    "version": 3
   },
   "file_extension": ".py",
   "mimetype": "text/x-python",
   "name": "python",
   "nbconvert_exporter": "python",
   "pygments_lexer": "ipython3",
   "version": "3.7.0"
  }
 },
 "nbformat": 4,
 "nbformat_minor": 2
}
